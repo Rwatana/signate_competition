{
 "cells": [
  {
   "cell_type": "code",
   "execution_count": 2,
   "metadata": {},
   "outputs": [],
   "source": [
    "import pandas as pd\n",
    "\n",
    "# 提供された指標のリスト\n",
    "indicators = [\n",
    "    'NGDP_R', 'NGDP_RPCH', 'NGDP', 'NGDPD', 'PPPGDP', 'NGDP_D', 'NGDPRPC', 'NGDPRPPPPC',\n",
    "    'NGDPPC', 'NGDPDPC', 'PPPPC', 'NGAP_NPGDP', 'PPPSH', 'PPPEX', 'NID_NGDP', 'NGSD_NGDP',\n",
    "    'PCPI', 'PCPIPCH', 'PCPIE', 'PCPIEPCH', 'TM_RPCH', 'TMG_RPCH', 'TX_RPCH', 'TXG_RPCH',\n",
    "    'LUR', 'LE', 'LP', 'GGR', 'GGR_NGDP', 'GGX', 'GGX_NGDP', 'GGXCNL', 'GGXCNL_NGDP', 'GGSB',\n",
    "    'GGSB_NPGDP', 'GGXONLB', 'GGXONLB_NGDP', 'GGXWDN', 'GGXWDN_NGDP', 'GGXWDG', 'GGXWDG_NGDP',\n",
    "    'NGDP_FY', 'BCA', 'BCA_NGDPD'\n",
    "]\n",
    "\n",
    "# シングルクォートを除外\n",
    "indicators = [indicator.replace(\"'\", \"\") for indicator in indicators]\n",
    "\n",
    "# インデックスを横一列にして新しいCSVファイルに保存\n",
    "pd.DataFrame({'Indicators': indicators}).to_csv('indicators_index.csv', index=False)\n"
   ]
  }
 ],
 "metadata": {
  "kernelspec": {
   "display_name": "Python 3",
   "language": "python",
   "name": "python3"
  },
  "language_info": {
   "codemirror_mode": {
    "name": "ipython",
    "version": 3
   },
   "file_extension": ".py",
   "mimetype": "text/x-python",
   "name": "python",
   "nbconvert_exporter": "python",
   "pygments_lexer": "ipython3",
   "version": "3.10.13"
  }
 },
 "nbformat": 4,
 "nbformat_minor": 2
}
