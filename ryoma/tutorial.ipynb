{
 "cells": [
  {
   "cell_type": "markdown",
   "metadata": {},
   "source": [
    "# 第2回 金融データ活用チャレンジチュートリアル\n",
    "このチュートリアルは分析コンペティションに初めて参加する方にも取り組んでいただけるように作成しています。\n",
    "はじめの一歩として、ぜひ参考にしてみてください。\n",
    "\n",
    "## 1.課題を理解しましょう。\n",
    "企業が返済不能になるかどうかの予測に挑戦して頂きます。\n",
    "\n",
    "> 今回は企業向けローンの返済可否予測というテーマを通して、ローンに関連したデータを基に、企業が返済不能になるかどうかの予測に挑戦して頂きます。このデータを活用することで、どの業種や地域が成長の機会を持っているか、あるいはどのような要因がビジネスの成功に影響を与えるかなど、金融機関は効果的な企業支援の戦略を立てることができます。\n",
    "\n",
    "## 2.データをダウンロードしましょう。\n",
    "以下のURLからデータをダウンロードします。\n",
    "https://signate.jp/competitions/1337/data\n",
    "\n",
    "## 3.環境を整えましょう。\n",
    "dataフォルダを作り、ダウンロードしたデータをdataフォルダに入れましょう。\n",
    "その後dataフォルダの入っているディレクトリと同じ場所にこのjupyter notebookを準備しましょう。\n",
    "また、解析に用いるモジュールを随時インポートしましょう。\n",
    "このチュートリアルでは次に挙げているモジュールを用いているので、走らせる場合はインストールしておきましょう。\n",
    "pandas, numpy, matplotlib, lightgbm, sklearn, seaborn\n",
    "\n",
    "## 4.データを読み込みましょう\n",
    "データまでのパスを適切に設定してpandasに読み込ませましょう。"
   ]
  },
  {
   "cell_type": "code",
   "execution_count": 2,
   "metadata": {},
   "outputs": [
    {
     "data": {
      "text/plain": [
       "(42308, 1)"
      ]
     },
     "execution_count": 2,
     "metadata": {},
     "output_type": "execute_result"
    }
   ],
   "source": [
    "import pandas as pd\n",
    "\n",
    "train = pd.read_csv('../dataset/train.csv', index_col=0) # 学習用データ\n",
    "test = pd.read_csv('../dataset/test.csv', index_col=0) # 学習用データ   # 評価用データ\n",
    "sample_submit = pd.read_csv('../dataset/sample_submission.csv', index_col=0, header=None) # 応募用サンプルファイル\n",
    "train.shape\n",
    "test.shape\n",
    "sample_submit.shape"
   ]
  },
  {
   "cell_type": "markdown",
   "metadata": {},
   "source": [
    "## 5.データの概要を確認しましょう。\n",
    "学習用データのカラムの一覧をまず確認しましょう。"
   ]
  },
  {
   "cell_type": "code",
   "execution_count": 3,
   "metadata": {},
   "outputs": [
    {
     "data": {
      "text/html": [
       "<div>\n",
       "<style scoped>\n",
       "    .dataframe tbody tr th:only-of-type {\n",
       "        vertical-align: middle;\n",
       "    }\n",
       "\n",
       "    .dataframe tbody tr th {\n",
       "        vertical-align: top;\n",
       "    }\n",
       "\n",
       "    .dataframe thead th {\n",
       "        text-align: right;\n",
       "    }\n",
       "</style>\n",
       "<table border=\"1\" class=\"dataframe\">\n",
       "  <thead>\n",
       "    <tr style=\"text-align: right;\">\n",
       "      <th></th>\n",
       "      <th>SBA_Appv</th>\n",
       "    </tr>\n",
       "  </thead>\n",
       "  <tbody>\n",
       "    <tr>\n",
       "      <th>count</th>\n",
       "      <td>42307</td>\n",
       "    </tr>\n",
       "    <tr>\n",
       "      <th>unique</th>\n",
       "      <td>2005</td>\n",
       "    </tr>\n",
       "    <tr>\n",
       "      <th>top</th>\n",
       "      <td>$25,000.00</td>\n",
       "    </tr>\n",
       "    <tr>\n",
       "      <th>freq</th>\n",
       "      <td>2382</td>\n",
       "    </tr>\n",
       "  </tbody>\n",
       "</table>\n",
       "</div>"
      ],
      "text/plain": [
       "           SBA_Appv\n",
       "count         42307\n",
       "unique         2005\n",
       "top     $25,000.00 \n",
       "freq           2382"
      ]
     },
     "execution_count": 3,
     "metadata": {},
     "output_type": "execute_result"
    }
   ],
   "source": [
    "train.dtypes.index\n",
    "train[['SBA_Appv']].describe()"
   ]
  },
  {
   "cell_type": "markdown",
   "metadata": {},
   "source": [
    "次に、読み込んだ学習用データの先頭5行を表示してみましょう。"
   ]
  },
  {
   "cell_type": "code",
   "execution_count": 3,
   "metadata": {},
   "outputs": [
    {
     "data": {
      "text/html": [
       "<div>\n",
       "<style scoped>\n",
       "    .dataframe tbody tr th:only-of-type {\n",
       "        vertical-align: middle;\n",
       "    }\n",
       "\n",
       "    .dataframe tbody tr th {\n",
       "        vertical-align: top;\n",
       "    }\n",
       "\n",
       "    .dataframe thead th {\n",
       "        text-align: right;\n",
       "    }\n",
       "</style>\n",
       "<table border=\"1\" class=\"dataframe\">\n",
       "  <thead>\n",
       "    <tr style=\"text-align: right;\">\n",
       "      <th></th>\n",
       "      <th>Term</th>\n",
       "      <th>NoEmp</th>\n",
       "      <th>NewExist</th>\n",
       "      <th>CreateJob</th>\n",
       "      <th>RetainedJob</th>\n",
       "      <th>FranchiseCode</th>\n",
       "      <th>RevLineCr</th>\n",
       "      <th>LowDoc</th>\n",
       "      <th>DisbursementDate</th>\n",
       "      <th>MIS_Status</th>\n",
       "      <th>Sector</th>\n",
       "      <th>ApprovalDate</th>\n",
       "      <th>ApprovalFY</th>\n",
       "      <th>City</th>\n",
       "      <th>State</th>\n",
       "      <th>BankState</th>\n",
       "      <th>DisbursementGross</th>\n",
       "      <th>GrAppv</th>\n",
       "      <th>SBA_Appv</th>\n",
       "      <th>UrbanRural</th>\n",
       "    </tr>\n",
       "  </thead>\n",
       "  <tbody>\n",
       "    <tr>\n",
       "      <th>0</th>\n",
       "      <td>163</td>\n",
       "      <td>21</td>\n",
       "      <td>1.0</td>\n",
       "      <td>0</td>\n",
       "      <td>0</td>\n",
       "      <td>1</td>\n",
       "      <td>N</td>\n",
       "      <td>N</td>\n",
       "      <td>31-Jan-98</td>\n",
       "      <td>1</td>\n",
       "      <td>0</td>\n",
       "      <td>22-Sep-06</td>\n",
       "      <td>2006</td>\n",
       "      <td>PHOENIX</td>\n",
       "      <td>AZ</td>\n",
       "      <td>SD</td>\n",
       "      <td>$80,000.00</td>\n",
       "      <td>$80,000.00</td>\n",
       "      <td>$68,000.00</td>\n",
       "      <td>0</td>\n",
       "    </tr>\n",
       "    <tr>\n",
       "      <th>1</th>\n",
       "      <td>84</td>\n",
       "      <td>6</td>\n",
       "      <td>1.0</td>\n",
       "      <td>4</td>\n",
       "      <td>0</td>\n",
       "      <td>0</td>\n",
       "      <td>0</td>\n",
       "      <td>N</td>\n",
       "      <td>31-Oct-93</td>\n",
       "      <td>1</td>\n",
       "      <td>62</td>\n",
       "      <td>30-Jun-92</td>\n",
       "      <td>1992</td>\n",
       "      <td>MCALESTER</td>\n",
       "      <td>OK</td>\n",
       "      <td>OK</td>\n",
       "      <td>$287,000.00</td>\n",
       "      <td>$287,000.00</td>\n",
       "      <td>$229,600.00</td>\n",
       "      <td>0</td>\n",
       "    </tr>\n",
       "    <tr>\n",
       "      <th>2</th>\n",
       "      <td>242</td>\n",
       "      <td>45</td>\n",
       "      <td>1.0</td>\n",
       "      <td>4</td>\n",
       "      <td>90</td>\n",
       "      <td>0</td>\n",
       "      <td>N</td>\n",
       "      <td>N</td>\n",
       "      <td>31-Aug-01</td>\n",
       "      <td>1</td>\n",
       "      <td>42</td>\n",
       "      <td>18-Apr-01</td>\n",
       "      <td>2001</td>\n",
       "      <td>HAWTHORNE</td>\n",
       "      <td>NJ</td>\n",
       "      <td>NJ</td>\n",
       "      <td>$31,983.00</td>\n",
       "      <td>$30,000.00</td>\n",
       "      <td>$15,000.00</td>\n",
       "      <td>1</td>\n",
       "    </tr>\n",
       "    <tr>\n",
       "      <th>3</th>\n",
       "      <td>237</td>\n",
       "      <td>4</td>\n",
       "      <td>1.0</td>\n",
       "      <td>0</td>\n",
       "      <td>0</td>\n",
       "      <td>0</td>\n",
       "      <td>N</td>\n",
       "      <td>N</td>\n",
       "      <td>31-Aug-07</td>\n",
       "      <td>1</td>\n",
       "      <td>33</td>\n",
       "      <td>6-Oct-03</td>\n",
       "      <td>2004</td>\n",
       "      <td>NASHVILLE</td>\n",
       "      <td>TN</td>\n",
       "      <td>SD</td>\n",
       "      <td>$229,000.00</td>\n",
       "      <td>$229,000.00</td>\n",
       "      <td>$229,000.00</td>\n",
       "      <td>0</td>\n",
       "    </tr>\n",
       "    <tr>\n",
       "      <th>4</th>\n",
       "      <td>184</td>\n",
       "      <td>0</td>\n",
       "      <td>1.0</td>\n",
       "      <td>0</td>\n",
       "      <td>0</td>\n",
       "      <td>0</td>\n",
       "      <td>N</td>\n",
       "      <td>N</td>\n",
       "      <td>8-Jun-83</td>\n",
       "      <td>1</td>\n",
       "      <td>0</td>\n",
       "      <td>17-Dec-99</td>\n",
       "      <td>2000</td>\n",
       "      <td>POMONA</td>\n",
       "      <td>CA</td>\n",
       "      <td>CA</td>\n",
       "      <td>$525,000.00</td>\n",
       "      <td>$525,000.00</td>\n",
       "      <td>$393,750.00</td>\n",
       "      <td>0</td>\n",
       "    </tr>\n",
       "  </tbody>\n",
       "</table>\n",
       "</div>"
      ],
      "text/plain": [
       "   Term  NoEmp  NewExist  CreateJob  RetainedJob  FranchiseCode RevLineCr  \\\n",
       "0   163     21       1.0          0            0              1         N   \n",
       "1    84      6       1.0          4            0              0         0   \n",
       "2   242     45       1.0          4           90              0         N   \n",
       "3   237      4       1.0          0            0              0         N   \n",
       "4   184      0       1.0          0            0              0         N   \n",
       "\n",
       "  LowDoc DisbursementDate  MIS_Status  Sector ApprovalDate  ApprovalFY  \\\n",
       "0      N        31-Jan-98           1       0    22-Sep-06        2006   \n",
       "1      N        31-Oct-93           1      62    30-Jun-92        1992   \n",
       "2      N        31-Aug-01           1      42    18-Apr-01        2001   \n",
       "3      N        31-Aug-07           1      33     6-Oct-03        2004   \n",
       "4      N         8-Jun-83           1       0    17-Dec-99        2000   \n",
       "\n",
       "        City State BankState DisbursementGross        GrAppv      SBA_Appv  \\\n",
       "0    PHOENIX    AZ        SD       $80,000.00    $80,000.00    $68,000.00    \n",
       "1  MCALESTER    OK        OK      $287,000.00   $287,000.00   $229,600.00    \n",
       "2  HAWTHORNE    NJ        NJ       $31,983.00    $30,000.00    $15,000.00    \n",
       "3  NASHVILLE    TN        SD      $229,000.00   $229,000.00   $229,000.00    \n",
       "4     POMONA    CA        CA      $525,000.00   $525,000.00   $393,750.00    \n",
       "\n",
       "   UrbanRural  \n",
       "0           0  \n",
       "1           0  \n",
       "2           1  \n",
       "3           0  \n",
       "4           0  "
      ]
     },
     "execution_count": 3,
     "metadata": {},
     "output_type": "execute_result"
    }
   ],
   "source": [
    "train.head(5)\n",
    "train."
   ]
  },
  {
   "cell_type": "markdown",
   "metadata": {},
   "source": [
    "1行で1つの貸し借りの情報を表していて、それのカラムは全部で20種類あることがわかります。\n",
    "各カラムの意味はデータタブに記載されているので、それと照らし合わせて確認できます。\n",
    "MIS_Status(ローンの状態)が今回の予測の対象である目的変数です。0は債務不履行、1は完済を表しています。\n",
    "評価用データ（test.csv）には目的変数（MIS_Status）はありません。その他のカラムは学習用データと同じです。\n",
    "つまり、答えが存在している学習用データ（train.csv）を元にして評価用データでのMIS_Status(ローンの状態)を予測することが今回の課題となっています。"
   ]
  },
  {
   "cell_type": "markdown",
   "metadata": {},
   "source": [
    "## 6.前処理を行いましょう\n",
    "機械学習で精度を上げるためにはデータを綺麗にする前処理が必要になります。\n",
    "このデータでは金額の頭に'$'がついているため、まずはそれを取り除き数値データに直す必要があります。"
   ]
  },
  {
   "cell_type": "code",
   "execution_count": 4,
   "metadata": {},
   "outputs": [
    {
     "data": {
      "text/html": [
       "<div>\n",
       "<style scoped>\n",
       "    .dataframe tbody tr th:only-of-type {\n",
       "        vertical-align: middle;\n",
       "    }\n",
       "\n",
       "    .dataframe tbody tr th {\n",
       "        vertical-align: top;\n",
       "    }\n",
       "\n",
       "    .dataframe thead th {\n",
       "        text-align: right;\n",
       "    }\n",
       "</style>\n",
       "<table border=\"1\" class=\"dataframe\">\n",
       "  <thead>\n",
       "    <tr style=\"text-align: right;\">\n",
       "      <th></th>\n",
       "      <th>DisbursementGross</th>\n",
       "      <th>GrAppv</th>\n",
       "      <th>SBA_Appv</th>\n",
       "    </tr>\n",
       "  </thead>\n",
       "  <tbody>\n",
       "    <tr>\n",
       "      <th>0</th>\n",
       "      <td>$80,000.00</td>\n",
       "      <td>$80,000.00</td>\n",
       "      <td>$68,000.00</td>\n",
       "    </tr>\n",
       "    <tr>\n",
       "      <th>1</th>\n",
       "      <td>$287,000.00</td>\n",
       "      <td>$287,000.00</td>\n",
       "      <td>$229,600.00</td>\n",
       "    </tr>\n",
       "    <tr>\n",
       "      <th>2</th>\n",
       "      <td>$31,983.00</td>\n",
       "      <td>$30,000.00</td>\n",
       "      <td>$15,000.00</td>\n",
       "    </tr>\n",
       "    <tr>\n",
       "      <th>3</th>\n",
       "      <td>$229,000.00</td>\n",
       "      <td>$229,000.00</td>\n",
       "      <td>$229,000.00</td>\n",
       "    </tr>\n",
       "    <tr>\n",
       "      <th>4</th>\n",
       "      <td>$525,000.00</td>\n",
       "      <td>$525,000.00</td>\n",
       "      <td>$393,750.00</td>\n",
       "    </tr>\n",
       "  </tbody>\n",
       "</table>\n",
       "</div>"
      ],
      "text/plain": [
       "  DisbursementGross        GrAppv      SBA_Appv\n",
       "0       $80,000.00    $80,000.00    $68,000.00 \n",
       "1      $287,000.00   $287,000.00   $229,600.00 \n",
       "2       $31,983.00    $30,000.00    $15,000.00 \n",
       "3      $229,000.00   $229,000.00   $229,000.00 \n",
       "4      $525,000.00   $525,000.00   $393,750.00 "
      ]
     },
     "execution_count": 4,
     "metadata": {},
     "output_type": "execute_result"
    }
   ],
   "source": [
    "train[['DisbursementGross',  'GrAppv', 'SBA_Appv']].head()"
   ]
  },
  {
   "cell_type": "code",
   "execution_count": 5,
   "metadata": {},
   "outputs": [
    {
     "name": "stderr",
     "output_type": "stream",
     "text": [
      "/tmp/ipykernel_1679237/1307329474.py:2: FutureWarning: DataFrame.applymap has been deprecated. Use DataFrame.map instead.\n",
      "  train[['DisbursementGross',  'GrAppv', 'SBA_Appv']].applymap(lambda x: x.strip().replace('$', '').replace(',', ''))\n",
      "/tmp/ipykernel_1679237/1307329474.py:5: FutureWarning: DataFrame.applymap has been deprecated. Use DataFrame.map instead.\n",
      "  test[['DisbursementGross',  'GrAppv', 'SBA_Appv']].applymap(lambda x: x.strip().replace('$', '').replace(',', ''))\n"
     ]
    },
    {
     "data": {
      "text/html": [
       "<div>\n",
       "<style scoped>\n",
       "    .dataframe tbody tr th:only-of-type {\n",
       "        vertical-align: middle;\n",
       "    }\n",
       "\n",
       "    .dataframe tbody tr th {\n",
       "        vertical-align: top;\n",
       "    }\n",
       "\n",
       "    .dataframe thead th {\n",
       "        text-align: right;\n",
       "    }\n",
       "</style>\n",
       "<table border=\"1\" class=\"dataframe\">\n",
       "  <thead>\n",
       "    <tr style=\"text-align: right;\">\n",
       "      <th></th>\n",
       "      <th>DisbursementGross</th>\n",
       "      <th>GrAppv</th>\n",
       "      <th>SBA_Appv</th>\n",
       "    </tr>\n",
       "  </thead>\n",
       "  <tbody>\n",
       "    <tr>\n",
       "      <th>0</th>\n",
       "      <td>80000.00</td>\n",
       "      <td>80000.00</td>\n",
       "      <td>68000.00</td>\n",
       "    </tr>\n",
       "    <tr>\n",
       "      <th>1</th>\n",
       "      <td>287000.00</td>\n",
       "      <td>287000.00</td>\n",
       "      <td>229600.00</td>\n",
       "    </tr>\n",
       "    <tr>\n",
       "      <th>2</th>\n",
       "      <td>31983.00</td>\n",
       "      <td>30000.00</td>\n",
       "      <td>15000.00</td>\n",
       "    </tr>\n",
       "    <tr>\n",
       "      <th>3</th>\n",
       "      <td>229000.00</td>\n",
       "      <td>229000.00</td>\n",
       "      <td>229000.00</td>\n",
       "    </tr>\n",
       "    <tr>\n",
       "      <th>4</th>\n",
       "      <td>525000.00</td>\n",
       "      <td>525000.00</td>\n",
       "      <td>393750.00</td>\n",
       "    </tr>\n",
       "  </tbody>\n",
       "</table>\n",
       "</div>"
      ],
      "text/plain": [
       "  DisbursementGross     GrAppv   SBA_Appv\n",
       "0          80000.00   80000.00   68000.00\n",
       "1         287000.00  287000.00  229600.00\n",
       "2          31983.00   30000.00   15000.00\n",
       "3         229000.00  229000.00  229000.00\n",
       "4         525000.00  525000.00  393750.00"
      ]
     },
     "execution_count": 5,
     "metadata": {},
     "output_type": "execute_result"
    }
   ],
   "source": [
    "train[['DisbursementGross',  'GrAppv', 'SBA_Appv']]= \\\n",
    "train[['DisbursementGross',  'GrAppv', 'SBA_Appv']].applymap(lambda x: x.strip().replace('$', '').replace(',', ''))\n",
    "\n",
    "test[['DisbursementGross',  'GrAppv', 'SBA_Appv']]= \\\n",
    "test[['DisbursementGross',  'GrAppv', 'SBA_Appv']].applymap(lambda x: x.strip().replace('$', '').replace(',', ''))\n",
    "  \n",
    "train[['DisbursementGross',  'GrAppv', 'SBA_Appv']].head()"
   ]
  },
  {
   "cell_type": "markdown",
   "metadata": {},
   "source": [
    "次に欠損値の処理をするために、欠損値を探してみましょう。"
   ]
  },
  {
   "cell_type": "code",
   "execution_count": 6,
   "metadata": {},
   "outputs": [
    {
     "data": {
      "text/plain": [
       "Term                    0\n",
       "NoEmp                   0\n",
       "NewExist                0\n",
       "CreateJob               0\n",
       "RetainedJob             0\n",
       "FranchiseCode           0\n",
       "RevLineCr            1079\n",
       "LowDoc                531\n",
       "DisbursementDate      150\n",
       "MIS_Status              0\n",
       "Sector                  0\n",
       "ApprovalDate            0\n",
       "ApprovalFY              0\n",
       "City                    0\n",
       "State                   0\n",
       "BankState              11\n",
       "DisbursementGross       0\n",
       "GrAppv                  0\n",
       "SBA_Appv                0\n",
       "UrbanRural              0\n",
       "dtype: int64"
      ]
     },
     "execution_count": 6,
     "metadata": {},
     "output_type": "execute_result"
    }
   ],
   "source": [
    "train.isnull().sum()"
   ]
  },
  {
   "cell_type": "markdown",
   "metadata": {},
   "source": [
    "RevLineCr、LowDoc、DisbursementDate、BankStateの4列に欠損が含まれていることがわかります。\n",
    "簡単のためにこれらの欠損値は\"NULL\"というカテゴリーに置き換え、欠損している情報を残します。"
   ]
  },
  {
   "cell_type": "code",
   "execution_count": 7,
   "metadata": {},
   "outputs": [],
   "source": [
    "train.fillna('NULL', inplace=True)"
   ]
  },
  {
   "cell_type": "markdown",
   "metadata": {},
   "source": [
    "## 7.データの特徴を見てみましょう\n",
    "まずは、各種数値データの特徴量を確認してみましょう。"
   ]
  },
  {
   "cell_type": "code",
   "execution_count": 8,
   "metadata": {},
   "outputs": [
    {
     "data": {
      "text/html": [
       "<div>\n",
       "<style scoped>\n",
       "    .dataframe tbody tr th:only-of-type {\n",
       "        vertical-align: middle;\n",
       "    }\n",
       "\n",
       "    .dataframe tbody tr th {\n",
       "        vertical-align: top;\n",
       "    }\n",
       "\n",
       "    .dataframe thead th {\n",
       "        text-align: right;\n",
       "    }\n",
       "</style>\n",
       "<table border=\"1\" class=\"dataframe\">\n",
       "  <thead>\n",
       "    <tr style=\"text-align: right;\">\n",
       "      <th></th>\n",
       "      <th>Term</th>\n",
       "      <th>NoEmp</th>\n",
       "      <th>NewExist</th>\n",
       "      <th>CreateJob</th>\n",
       "      <th>RetainedJob</th>\n",
       "      <th>FranchiseCode</th>\n",
       "      <th>MIS_Status</th>\n",
       "      <th>Sector</th>\n",
       "      <th>ApprovalFY</th>\n",
       "      <th>UrbanRural</th>\n",
       "    </tr>\n",
       "  </thead>\n",
       "  <tbody>\n",
       "    <tr>\n",
       "      <th>count</th>\n",
       "      <td>42307.000000</td>\n",
       "      <td>42307.000000</td>\n",
       "      <td>42307.000000</td>\n",
       "      <td>42307.000000</td>\n",
       "      <td>42307.000000</td>\n",
       "      <td>42307.000000</td>\n",
       "      <td>42307.000000</td>\n",
       "      <td>42307.000000</td>\n",
       "      <td>42307.000000</td>\n",
       "      <td>42307.000000</td>\n",
       "    </tr>\n",
       "    <tr>\n",
       "      <th>mean</th>\n",
       "      <td>108.601673</td>\n",
       "      <td>9.704304</td>\n",
       "      <td>1.210414</td>\n",
       "      <td>2.183728</td>\n",
       "      <td>3.478148</td>\n",
       "      <td>1955.056019</td>\n",
       "      <td>0.892689</td>\n",
       "      <td>32.933439</td>\n",
       "      <td>2001.537783</td>\n",
       "      <td>0.585742</td>\n",
       "    </tr>\n",
       "    <tr>\n",
       "      <th>std</th>\n",
       "      <td>84.569847</td>\n",
       "      <td>17.488022</td>\n",
       "      <td>0.407608</td>\n",
       "      <td>5.093980</td>\n",
       "      <td>8.113648</td>\n",
       "      <td>10541.388765</td>\n",
       "      <td>0.309512</td>\n",
       "      <td>22.291386</td>\n",
       "      <td>5.860527</td>\n",
       "      <td>0.741929</td>\n",
       "    </tr>\n",
       "    <tr>\n",
       "      <th>min</th>\n",
       "      <td>0.000000</td>\n",
       "      <td>0.000000</td>\n",
       "      <td>1.000000</td>\n",
       "      <td>0.000000</td>\n",
       "      <td>0.000000</td>\n",
       "      <td>0.000000</td>\n",
       "      <td>0.000000</td>\n",
       "      <td>0.000000</td>\n",
       "      <td>1974.000000</td>\n",
       "      <td>0.000000</td>\n",
       "    </tr>\n",
       "    <tr>\n",
       "      <th>25%</th>\n",
       "      <td>56.000000</td>\n",
       "      <td>2.000000</td>\n",
       "      <td>1.000000</td>\n",
       "      <td>0.000000</td>\n",
       "      <td>0.000000</td>\n",
       "      <td>0.000000</td>\n",
       "      <td>1.000000</td>\n",
       "      <td>22.000000</td>\n",
       "      <td>1997.000000</td>\n",
       "      <td>0.000000</td>\n",
       "    </tr>\n",
       "    <tr>\n",
       "      <th>50%</th>\n",
       "      <td>82.000000</td>\n",
       "      <td>4.000000</td>\n",
       "      <td>1.000000</td>\n",
       "      <td>0.000000</td>\n",
       "      <td>0.000000</td>\n",
       "      <td>0.000000</td>\n",
       "      <td>1.000000</td>\n",
       "      <td>33.000000</td>\n",
       "      <td>2003.000000</td>\n",
       "      <td>0.000000</td>\n",
       "    </tr>\n",
       "    <tr>\n",
       "      <th>75%</th>\n",
       "      <td>168.000000</td>\n",
       "      <td>12.000000</td>\n",
       "      <td>1.000000</td>\n",
       "      <td>2.000000</td>\n",
       "      <td>3.000000</td>\n",
       "      <td>1.000000</td>\n",
       "      <td>1.000000</td>\n",
       "      <td>44.000000</td>\n",
       "      <td>2006.000000</td>\n",
       "      <td>1.000000</td>\n",
       "    </tr>\n",
       "    <tr>\n",
       "      <th>max</th>\n",
       "      <td>360.000000</td>\n",
       "      <td>202.000000</td>\n",
       "      <td>2.000000</td>\n",
       "      <td>70.000000</td>\n",
       "      <td>140.000000</td>\n",
       "      <td>90709.000000</td>\n",
       "      <td>1.000000</td>\n",
       "      <td>81.000000</td>\n",
       "      <td>2014.000000</td>\n",
       "      <td>2.000000</td>\n",
       "    </tr>\n",
       "  </tbody>\n",
       "</table>\n",
       "</div>"
      ],
      "text/plain": [
       "               Term         NoEmp      NewExist     CreateJob   RetainedJob  \\\n",
       "count  42307.000000  42307.000000  42307.000000  42307.000000  42307.000000   \n",
       "mean     108.601673      9.704304      1.210414      2.183728      3.478148   \n",
       "std       84.569847     17.488022      0.407608      5.093980      8.113648   \n",
       "min        0.000000      0.000000      1.000000      0.000000      0.000000   \n",
       "25%       56.000000      2.000000      1.000000      0.000000      0.000000   \n",
       "50%       82.000000      4.000000      1.000000      0.000000      0.000000   \n",
       "75%      168.000000     12.000000      1.000000      2.000000      3.000000   \n",
       "max      360.000000    202.000000      2.000000     70.000000    140.000000   \n",
       "\n",
       "       FranchiseCode    MIS_Status        Sector    ApprovalFY    UrbanRural  \n",
       "count   42307.000000  42307.000000  42307.000000  42307.000000  42307.000000  \n",
       "mean     1955.056019      0.892689     32.933439   2001.537783      0.585742  \n",
       "std     10541.388765      0.309512     22.291386      5.860527      0.741929  \n",
       "min         0.000000      0.000000      0.000000   1974.000000      0.000000  \n",
       "25%         0.000000      1.000000     22.000000   1997.000000      0.000000  \n",
       "50%         0.000000      1.000000     33.000000   2003.000000      0.000000  \n",
       "75%         1.000000      1.000000     44.000000   2006.000000      1.000000  \n",
       "max     90709.000000      1.000000     81.000000   2014.000000      2.000000  "
      ]
     },
     "execution_count": 8,
     "metadata": {},
     "output_type": "execute_result"
    }
   ],
   "source": [
    "train.describe()"
   ]
  },
  {
   "cell_type": "markdown",
   "metadata": {},
   "source": [
    "目的変数と他の変数の関係を確認しましょう。\n",
    "まず初めに、MIS_Status(ローンの状態)と他の数値データとの相関を見てみましょう。\n",
    "そのためにまず、数字のカラムを取り出します。"
   ]
  },
  {
   "cell_type": "code",
   "execution_count": 9,
   "metadata": {},
   "outputs": [
    {
     "data": {
      "text/plain": [
       "Index(['Term', 'NoEmp', 'NewExist', 'CreateJob', 'RetainedJob',\n",
       "       'FranchiseCode', 'MIS_Status', 'Sector', 'ApprovalFY', 'UrbanRural'],\n",
       "      dtype='object')"
      ]
     },
     "execution_count": 9,
     "metadata": {},
     "output_type": "execute_result"
    }
   ],
   "source": [
    "numeric_columns = train.select_dtypes(include=['number']).columns\n",
    "  \n",
    "numeric_columns"
   ]
  },
  {
   "cell_type": "code",
   "execution_count": 10,
   "metadata": {},
   "outputs": [
    {
     "data": {
      "image/png": "[encoded data removed]",
      "text/plain": [
       "<Figure size 1000x800 with 2 Axes>"
      ]
     },
     "metadata": {},
     "output_type": "display_data"
    }
   ],
   "source": [
    "import matplotlib.pyplot as plt\n",
    "import seaborn as sns\n",
    "\n",
    "# train[std_columns] の相関行列を求める\n",
    "corr_matrix = train[numeric_columns].corr()\n",
    "  \n",
    "# 相関行列を図示\n",
    "plt.figure(figsize=(10, 8))\n",
    "sns.heatmap(corr_matrix, annot=True, cmap='coolwarm')\n",
    "plt.title('Correlation Matrix of Standardized Columns')\n",
    "plt.show()"
   ]
  },
  {
   "cell_type": "markdown",
   "metadata": {},
   "source": [
    "MIS_Status(ローンの状態)は他の数値データとは直接的な相関があまりないが、UrbanRural(都会か田舎か)とはやや相関があることが見られました。"
   ]
  },
  {
   "cell_type": "markdown",
   "metadata": {},
   "source": [
    "## 8.学習モデルを作ってみましょう\n",
    "チュートリアルでは簡単のため数値データのみに対してLightGBMと呼ばれる手法を用いて学習モデルを作ります。"
   ]
  },
  {
   "cell_type": "code",
   "execution_count": 11,
   "metadata": {},
   "outputs": [
    {
     "name": "stdout",
     "output_type": "stream",
     "text": [
      "[LightGBM] [Info] Number of positive: 30192, number of negative: 3653\n",
      "[LightGBM] [Info] Auto-choosing row-wise multi-threading, the overhead of testing was 0.002383 seconds.\n",
      "You can set `force_row_wise=true` to remove the overhead.\n",
      "And if memory is not enough, you can set `force_col_wise=true`.\n",
      "[LightGBM] [Info] Total Bins 751\n",
      "[LightGBM] [Info] Number of data points in the train set: 33845, number of used features: 9\n",
      "[LightGBM] [Info] [binary:BoostFromScore]: pavg=0.892067 -> initscore=2.112028\n",
      "[LightGBM] [Info] Start training from score 2.112028\n",
      "Accuracy: 0.8994327582131884\n"
     ]
    }
   ],
   "source": [
    "import lightgbm as lgb\n",
    "from sklearn.model_selection import train_test_split\n",
    "from sklearn.metrics import accuracy_score\n",
    "  \n",
    "train_numeric = train[numeric_columns]\n",
    "  \n",
    "# データの準備\n",
    "X = train_numeric.drop('MIS_Status', axis=1)  # 特徴量\n",
    "y = train_numeric['MIS_Status']               # 目的変数\n",
    "  \n",
    "# データの分割\n",
    "X_train, X_test, y_train, y_test = train_test_split(X, y, test_size=0.2, random_state=42)\n",
    "  \n",
    "# LightGBMモデルの設定\n",
    "lgbm = lgb.LGBMClassifier()\n",
    "  \n",
    "# モデルの訓練\n",
    "lgbm.fit(X_train, y_train)\n",
    "  \n",
    "# モデルの評価\n",
    "y_pred = lgbm.predict(X_test)\n",
    "print(f'Accuracy: {accuracy_score(y_test, y_pred)}')"
   ]
  },
  {
   "cell_type": "markdown",
   "metadata": {},
   "source": [
    "このコンペティションの評価指標はMeanF1Score（MacroF1Score）ですので、それでスコアも計算してみます。"
   ]
  },
  {
   "cell_type": "code",
   "execution_count": 12,
   "metadata": {},
   "outputs": [
    {
     "name": "stdout",
     "output_type": "stream",
     "text": [
      "Mean F1 Score: 0.5691065243918456\n"
     ]
    }
   ],
   "source": [
    "from sklearn.metrics import f1_score\n",
    "  \n",
    "mean_f1 = f1_score(y_test, y_pred, average='macro')\n",
    "print(f'Mean F1 Score: {mean_f1}')"
   ]
  },
  {
   "cell_type": "markdown",
   "metadata": {},
   "source": [
    "学習したモデルにtestデータを入力すると、testデータに対するMIS_Statusを予測してくれます。\n",
    "ただし、今回は数値データしか使っていないため、testデータの数値データのみを用いています。"
   ]
  },
  {
   "cell_type": "code",
   "execution_count": 13,
   "metadata": {},
   "outputs": [
    {
     "name": "stdout",
     "output_type": "stream",
     "text": [
      "[0 1 1 ... 1 1 0]\n"
     ]
    }
   ],
   "source": [
    "predictions = lgbm.predict(test[numeric_columns.drop('MIS_Status')] )\n",
    "# 結果を表示\n",
    "print(predictions)"
   ]
  },
  {
   "cell_type": "markdown",
   "metadata": {},
   "source": [
    "## 9.予測結果を投稿してみましょう\n",
    "応募用サンプルファイルで予測結果が格納されている1列目の値を、今回出力した予測結果に置き換えた上で、ヘッダ無しcsv形式のファイルとして保存しましょう。"
   ]
  },
  {
   "cell_type": "code",
   "execution_count": 14,
   "metadata": {},
   "outputs": [],
   "source": [
    "predictions = lgbm.predict(test[numeric_columns.drop('MIS_Status')] )\n",
    "# 結果を表示\n",
    "print(predictions)\n",
    "sample_submit[1] = predictions\n",
    "sample_submit.to_csv('submit.csv', header=None)"
   ]
  },
  {
   "cell_type": "markdown",
   "metadata": {},
   "source": [
    "## 10.より良い精度を出すためには\n",
    "今回のチュートリアルでは簡単のために簡易的な前処理、特徴量選択、モデリングを行いました。\n",
    "これよりもより良い精度を出すためには次のことを参考にしてみるのが良いかもしれません。\n",
    "1. 数値データ以外の特徴量を学習に取り入れる。\n",
    "2. チュートリアルでは比較的計算時間が短くて済むLightGBMを用いましたが、他の手法を試してみるのも良いかもしれません。また、ハイパーパラメータも色々変えて精度を向上させましょう。\n",
    "3. 今回調べているのは、いわゆる「貸し倒れ確率」です。日本の個人向け融資では貸し倒れ確率は借りた額や借りる人の収入に主に依存することが知られています。この様な傾向が今回考えている米国中小向けのローンで成立するかをもし良かったら確認してみましょう。"
   ]
  }
 ],
 "metadata": {
  "kernelspec": {
   "display_name": "Python 3",
   "language": "python",
   "name": "python3"
  },
  "language_info": {
   "codemirror_mode": {
    "name": "ipython",
    "version": 3
   },
   "file_extension": ".py",
   "mimetype": "text/x-python",
   "name": "python",
   "nbconvert_exporter": "python",
   "pygments_lexer": "ipython3",
   "version": "3.10.13"
  }
 },
 "nbformat": 4,
 "nbformat_minor": 2
}
